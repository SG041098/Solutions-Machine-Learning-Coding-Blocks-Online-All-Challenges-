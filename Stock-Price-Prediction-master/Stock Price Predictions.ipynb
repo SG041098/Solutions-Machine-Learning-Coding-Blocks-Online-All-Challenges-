{
 "cells": [
  {
   "cell_type": "code",
   "execution_count": 1,
   "metadata": {},
   "outputs": [
    {
     "name": "stderr",
     "output_type": "stream",
     "text": [
      "Using TensorFlow backend.\n"
     ]
    }
   ],
   "source": [
    "from keras.models import Sequential\n",
    "from keras.layers import *\n",
    "from keras.utils import np_utils\n",
    "import pandas as pd\n",
    "import numpy as np\n",
    "from keras.callbacks import EarlyStopping , ModelCheckpoint\n",
    "from keras.models import load_model\n",
    "from keras.optimizers import adam\n",
    "import matplotlib.pyplot as plt"
   ]
  },
  {
   "cell_type": "code",
   "execution_count": 2,
   "metadata": {},
   "outputs": [],
   "source": [
    "X_train = pd.read_csv(\"Train/x_train.csv\").values\n",
    "y_train = pd.read_csv(\"Train/y_train.csv\").values"
   ]
  },
  {
   "cell_type": "code",
   "execution_count": 3,
   "metadata": {},
   "outputs": [],
   "source": [
    "# Feature Scaling\n",
    "\n",
    "from sklearn.preprocessing import MinMaxScaler\n",
    "sc = MinMaxScaler(feature_range = (0, 1))\n",
    "X_train = sc.fit_transform(X_train)\n",
    "y_train = sc.transform(y_train)"
   ]
  },
  {
   "cell_type": "code",
   "execution_count": 4,
   "metadata": {},
   "outputs": [],
   "source": [
    "X_train = X_train.reshape((X_train.shape[0],X_train.shape[1],1))"
   ]
  },
  {
   "cell_type": "code",
   "execution_count": 5,
   "metadata": {},
   "outputs": [
    {
     "data": {
      "text/plain": [
       "(1257, 1, 1)"
      ]
     },
     "execution_count": 5,
     "metadata": {},
     "output_type": "execute_result"
    }
   ],
   "source": [
    "X_train.shape"
   ]
  },
  {
   "cell_type": "code",
   "execution_count": 6,
   "metadata": {},
   "outputs": [],
   "source": [
    "# y_train = y_train.reshape(-1,)"
   ]
  },
  {
   "cell_type": "code",
   "execution_count": 7,
   "metadata": {},
   "outputs": [
    {
     "data": {
      "text/plain": [
       "(1257, 1)"
      ]
     },
     "execution_count": 7,
     "metadata": {},
     "output_type": "execute_result"
    }
   ],
   "source": [
    "y_train.shape"
   ]
  },
  {
   "cell_type": "code",
   "execution_count": 8,
   "metadata": {},
   "outputs": [],
   "source": [
    "XT = X_train[:1000]\n",
    "YT = y_train[:1000]\n",
    "Xt = X_train[1000:]\n",
    "Yt = y_train[1000:]"
   ]
  },
  {
   "cell_type": "code",
   "execution_count": 9,
   "metadata": {},
   "outputs": [
    {
     "name": "stdout",
     "output_type": "stream",
     "text": [
      "(1000, 1, 1)\n",
      "(257, 1, 1)\n",
      "(1000, 1)\n",
      "(257, 1)\n"
     ]
    }
   ],
   "source": [
    "print(XT.shape)\n",
    "print(Xt.shape)\n",
    "print(YT.shape)\n",
    "print(Yt.shape)"
   ]
  },
  {
   "cell_type": "code",
   "execution_count": null,
   "metadata": {},
   "outputs": [],
   "source": []
  },
  {
   "cell_type": "code",
   "execution_count": 10,
   "metadata": {},
   "outputs": [
    {
     "name": "stdout",
     "output_type": "stream",
     "text": [
      "WARNING:tensorflow:From C:\\Users\\Mohit Uniyal\\Anaconda3\\lib\\site-packages\\tensorflow\\python\\framework\\op_def_library.py:263: colocate_with (from tensorflow.python.framework.ops) is deprecated and will be removed in a future version.\n",
      "Instructions for updating:\n",
      "Colocations handled automatically by placer.\n",
      "_________________________________________________________________\n",
      "Layer (type)                 Output Shape              Param #   \n",
      "=================================================================\n",
      "lstm_1 (LSTM)                (None, None, 32)          4352      \n",
      "_________________________________________________________________\n",
      "lstm_2 (LSTM)                (None, 3)                 432       \n",
      "_________________________________________________________________\n",
      "dense_1 (Dense)              (None, 1)                 4         \n",
      "=================================================================\n",
      "Total params: 4,788\n",
      "Trainable params: 4,788\n",
      "Non-trainable params: 0\n",
      "_________________________________________________________________\n"
     ]
    }
   ],
   "source": [
    "\n",
    "# Importing the Keras libraries and packages\n",
    "from keras.models import Sequential\n",
    "from keras.layers import Dense\n",
    "from keras.layers import LSTM\n",
    "\n",
    "# Initialising the RNN\n",
    "regressor = Sequential()\n",
    "\n",
    "# Adding the input layer and the LSTM layer\n",
    "regressor.add(LSTM(units = 32, return_sequences = True, input_shape = (None, 1)))\n",
    "\n",
    "# # Adding a second LSTM layer\n",
    "# regressor.add(LSTM(units = 32, return_sequences = True))\n",
    "\n",
    "# # Adding a third LSTM layer\n",
    "# regressor.add(LSTM(units = 16, return_sequences = True))\n",
    "\n",
    "# Adding a fourth LSTM layer\n",
    "regressor.add(LSTM(units = 3))\n",
    "\n",
    "# Adding the output layer\n",
    "regressor.add(Dense(units = 1))\n",
    "\n",
    "# Compiling the RNN\n",
    "regressor.compile(optimizer = adam(lr=0.0007), loss = 'mean_squared_error', metrics= ['accuracy'])\n",
    "\n",
    "regressor.summary()"
   ]
  },
  {
   "cell_type": "code",
   "execution_count": null,
   "metadata": {},
   "outputs": [],
   "source": []
  },
  {
   "cell_type": "code",
   "execution_count": 11,
   "metadata": {
    "scrolled": true
   },
   "outputs": [
    {
     "name": "stdout",
     "output_type": "stream",
     "text": [
      "WARNING:tensorflow:From C:\\Users\\Mohit Uniyal\\Anaconda3\\lib\\site-packages\\tensorflow\\python\\ops\\math_ops.py:3066: to_int32 (from tensorflow.python.ops.math_ops) is deprecated and will be removed in a future version.\n",
      "Instructions for updating:\n",
      "Use tf.cast instead.\n",
      "Train on 1000 samples, validate on 257 samples\n",
      "Epoch 1/50\n",
      "1000/1000 [==============================] - 3s 3ms/step - loss: 0.1752 - acc: 1.0000e-03 - val_loss: 0.6662 - val_acc: 0.0000e+00\n",
      "Epoch 2/50\n",
      "1000/1000 [==============================] - 0s 118us/step - loss: 0.1394 - acc: 1.0000e-03 - val_loss: 0.5602 - val_acc: 0.0000e+00\n",
      "Epoch 3/50\n",
      "1000/1000 [==============================] - 0s 111us/step - loss: 0.1033 - acc: 1.0000e-03 - val_loss: 0.4370 - val_acc: 0.0000e+00\n",
      "Epoch 4/50\n",
      "1000/1000 [==============================] - 0s 117us/step - loss: 0.0688 - acc: 1.0000e-03 - val_loss: 0.3043 - val_acc: 0.0000e+00\n",
      "Epoch 5/50\n",
      "1000/1000 [==============================] - 0s 119us/step - loss: 0.0424 - acc: 1.0000e-03 - val_loss: 0.1890 - val_acc: 0.0000e+00\n",
      "Epoch 6/50\n",
      "1000/1000 [==============================] - 0s 116us/step - loss: 0.0294 - acc: 1.0000e-03 - val_loss: 0.1214 - val_acc: 0.0039\n",
      "Epoch 7/50\n",
      "1000/1000 [==============================] - 0s 109us/step - loss: 0.0253 - acc: 1.0000e-03 - val_loss: 0.0911 - val_acc: 0.0039\n",
      "Epoch 8/50\n",
      "1000/1000 [==============================] - 0s 112us/step - loss: 0.0227 - acc: 1.0000e-03 - val_loss: 0.0814 - val_acc: 0.0039\n",
      "Epoch 9/50\n",
      "1000/1000 [==============================] - 0s 107us/step - loss: 0.0200 - acc: 1.0000e-03 - val_loss: 0.0657 - val_acc: 0.0039\n",
      "Epoch 10/50\n",
      "1000/1000 [==============================] - 0s 126us/step - loss: 0.0172 - acc: 1.0000e-03 - val_loss: 0.0518 - val_acc: 0.0039\n",
      "Epoch 11/50\n",
      "1000/1000 [==============================] - 0s 116us/step - loss: 0.0144 - acc: 1.0000e-03 - val_loss: 0.0391 - val_acc: 0.0039\n",
      "Epoch 12/50\n",
      "1000/1000 [==============================] - 0s 113us/step - loss: 0.0117 - acc: 1.0000e-03 - val_loss: 0.0270 - val_acc: 0.0039\n",
      "Epoch 13/50\n",
      "1000/1000 [==============================] - 0s 113us/step - loss: 0.0092 - acc: 1.0000e-03 - val_loss: 0.0184 - val_acc: 0.0039\n",
      "Epoch 14/50\n",
      "1000/1000 [==============================] - 0s 109us/step - loss: 0.0070 - acc: 1.0000e-03 - val_loss: 0.0095 - val_acc: 0.0039\n",
      "Epoch 15/50\n",
      "1000/1000 [==============================] - 0s 111us/step - loss: 0.0051 - acc: 1.0000e-03 - val_loss: 0.0050 - val_acc: 0.0039\n",
      "Epoch 16/50\n",
      "1000/1000 [==============================] - 0s 111us/step - loss: 0.0037 - acc: 1.0000e-03 - val_loss: 0.0018 - val_acc: 0.0039\n",
      "Epoch 17/50\n",
      "1000/1000 [==============================] - 0s 145us/step - loss: 0.0026 - acc: 1.0000e-03 - val_loss: 4.9059e-04 - val_acc: 0.0039\n",
      "Epoch 18/50\n",
      "1000/1000 [==============================] - 0s 163us/step - loss: 0.0019 - acc: 1.0000e-03 - val_loss: 3.4354e-04 - val_acc: 0.0039\n",
      "Epoch 19/50\n",
      "1000/1000 [==============================] - 0s 145us/step - loss: 0.0014 - acc: 1.0000e-03 - val_loss: 9.3855e-04 - val_acc: 0.0039\n",
      "Epoch 20/50\n",
      "1000/1000 [==============================] - 0s 129us/step - loss: 0.0011 - acc: 1.0000e-03 - val_loss: 0.0016 - val_acc: 0.0039\n",
      "Epoch 21/50\n",
      "1000/1000 [==============================] - 0s 113us/step - loss: 9.7075e-04 - acc: 1.0000e-03 - val_loss: 0.0021 - val_acc: 0.0039\n",
      "Epoch 22/50\n",
      "1000/1000 [==============================] - 0s 117us/step - loss: 8.8320e-04 - acc: 1.0000e-03 - val_loss: 0.0030 - val_acc: 0.0039\n",
      "Epoch 23/50\n",
      "1000/1000 [==============================] - 0s 145us/step - loss: 8.2437e-04 - acc: 1.0000e-03 - val_loss: 0.0035 - val_acc: 0.0039\n",
      "Epoch 24/50\n",
      "1000/1000 [==============================] - 0s 135us/step - loss: 7.8785e-04 - acc: 1.0000e-03 - val_loss: 0.0036 - val_acc: 0.0039\n",
      "Epoch 25/50\n",
      "1000/1000 [==============================] - 0s 113us/step - loss: 7.5948e-04 - acc: 1.0000e-03 - val_loss: 0.0037 - val_acc: 0.0039\n",
      "Epoch 26/50\n",
      "1000/1000 [==============================] - 0s 116us/step - loss: 7.3586e-04 - acc: 1.0000e-03 - val_loss: 0.0033 - val_acc: 0.0039\n",
      "Epoch 27/50\n",
      "1000/1000 [==============================] - 0s 125us/step - loss: 7.0794e-04 - acc: 1.0000e-03 - val_loss: 0.0035 - val_acc: 0.0039\n",
      "Epoch 28/50\n",
      "1000/1000 [==============================] - 0s 127us/step - loss: 6.8677e-04 - acc: 1.0000e-03 - val_loss: 0.0031 - val_acc: 0.0039+\n",
      "Epoch 29/50\n",
      "1000/1000 [==============================] - 0s 148us/step - loss: 6.6307e-04 - acc: 1.0000e-03 - val_loss: 0.0035 - val_acc: 0.0039\n",
      "Epoch 30/50\n",
      "1000/1000 [==============================] - 0s 144us/step - loss: 6.4210e-04 - acc: 1.0000e-03 - val_loss: 0.0031 - val_acc: 0.0039\n",
      "Epoch 31/50\n",
      "1000/1000 [==============================] - 0s 138us/step - loss: 6.1642e-04 - acc: 1.0000e-03 - val_loss: 0.0026 - val_acc: 0.0039\n",
      "Epoch 32/50\n",
      "1000/1000 [==============================] - 0s 120us/step - loss: 5.9690e-04 - acc: 1.0000e-03 - val_loss: 0.0024 - val_acc: 0.0039\n",
      "Epoch 33/50\n",
      "1000/1000 [==============================] - 0s 134us/step - loss: 5.7640e-04 - acc: 1.0000e-03 - val_loss: 0.0022 - val_acc: 0.0039+\n",
      "Epoch 34/50\n",
      "1000/1000 [==============================] - 0s 148us/step - loss: 5.5374e-04 - acc: 1.0000e-03 - val_loss: 0.0024 - val_acc: 0.0039\n",
      "Epoch 35/50\n",
      "1000/1000 [==============================] - 0s 144us/step - loss: 5.3583e-04 - acc: 1.0000e-03 - val_loss: 0.0020 - val_acc: 0.0039\n",
      "Epoch 36/50\n",
      "1000/1000 [==============================] - 0s 111us/step - loss: 5.1546e-04 - acc: 1.0000e-03 - val_loss: 0.0019 - val_acc: 0.0039\n",
      "Epoch 37/50\n",
      "1000/1000 [==============================] - 0s 125us/step - loss: 4.9526e-04 - acc: 1.0000e-03 - val_loss: 0.0018 - val_acc: 0.0039\n",
      "Epoch 38/50\n",
      "1000/1000 [==============================] - 0s 137us/step - loss: 4.7951e-04 - acc: 1.0000e-03 - val_loss: 0.0016 - val_acc: 0.0039\n",
      "Epoch 39/50\n",
      "1000/1000 [==============================] - 0s 129us/step - loss: 4.6435e-04 - acc: 1.0000e-03 - val_loss: 0.0015 - val_acc: 0.0039\n",
      "Epoch 40/50\n",
      "1000/1000 [==============================] - 0s 133us/step - loss: 4.4532e-04 - acc: 1.0000e-03 - val_loss: 0.0013 - val_acc: 0.0039\n",
      "Epoch 41/50\n",
      "1000/1000 [==============================] - 0s 126us/step - loss: 4.2738e-04 - acc: 1.0000e-03 - val_loss: 0.0015 - val_acc: 0.0039\n",
      "Epoch 42/50\n",
      "1000/1000 [==============================] - 0s 129us/step - loss: 4.1361e-04 - acc: 1.0000e-03 - val_loss: 0.0012 - val_acc: 0.0039\n",
      "Epoch 43/50\n",
      "1000/1000 [==============================] - 0s 143us/step - loss: 3.9869e-04 - acc: 1.0000e-03 - val_loss: 0.0012 - val_acc: 0.0039\n",
      "Epoch 44/50\n",
      "1000/1000 [==============================] - 0s 122us/step - loss: 3.8506e-04 - acc: 1.0000e-03 - val_loss: 9.8048e-04 - val_acc: 0.0039\n",
      "Epoch 45/50\n",
      "1000/1000 [==============================] - 0s 134us/step - loss: 3.7361e-04 - acc: 1.0000e-03 - val_loss: 9.0527e-04 - val_acc: 0.0039\n",
      "Epoch 46/50\n",
      "1000/1000 [==============================] - 0s 127us/step - loss: 3.6355e-04 - acc: 1.0000e-03 - val_loss: 8.9288e-04 - val_acc: 0.0039\n",
      "Epoch 47/50\n",
      "1000/1000 [==============================] - 0s 141us/step - loss: 3.4973e-04 - acc: 1.0000e-03 - val_loss: 7.9152e-04 - val_acc: 0.0039\n",
      "Epoch 48/50\n",
      "1000/1000 [==============================] - 0s 128us/step - loss: 3.3853e-04 - acc: 1.0000e-03 - val_loss: 7.0342e-04 - val_acc: 0.0039\n",
      "Epoch 49/50\n",
      "1000/1000 [==============================] - 0s 128us/step - loss: 3.2515e-04 - acc: 1.0000e-03 - val_loss: 4.8714e-04 - val_acc: 0.0039\n",
      "Epoch 50/50\n",
      "1000/1000 [==============================] - 0s 127us/step - loss: 3.1553e-04 - acc: 1.0000e-03 - val_loss: 5.5807e-04 - val_acc: 0.0039\n"
     ]
    }
   ],
   "source": [
    "# Fitting the RNN to the Training set\n",
    "hist = regressor.fit(XT,YT, epochs = 50, batch_size = 32, validation_data=(Xt,Yt))"
   ]
  },
  {
   "cell_type": "code",
   "execution_count": 12,
   "metadata": {},
   "outputs": [
    {
     "data": {
      "image/png": "[encoded data removed]",
      "text/plain": [
       "<Figure size 432x288 with 1 Axes>"
      ]
     },
     "metadata": {
      "needs_background": "light"
     },
     "output_type": "display_data"
    }
   ],
   "source": [
    "plt.plot(hist.history['loss'], label = \"train loss\")\n",
    "plt.plot(hist.history['val_loss'], label =\"val loss\")\n",
    "plt.legend()\n",
    "plt.show()"
   ]
  },
  {
   "cell_type": "code",
   "execution_count": 13,
   "metadata": {},
   "outputs": [
    {
     "data": {
      "image/png": "[encoded data removed]",
      "text/plain": [
       "<Figure size 432x288 with 1 Axes>"
      ]
     },
     "metadata": {
      "needs_background": "light"
     },
     "output_type": "display_data"
    }
   ],
   "source": [
    "plt.plot(hist.history['acc'], label=\"acc\")\n",
    "plt.plot(hist.history['val_acc'], label=\"val acc\")\n",
    "plt.legend()\n",
    "plt.show()"
   ]
  },
  {
   "cell_type": "code",
   "execution_count": 14,
   "metadata": {},
   "outputs": [],
   "source": [
    "y_pred = regressor.predict(Xt)"
   ]
  },
  {
   "cell_type": "code",
   "execution_count": 15,
   "metadata": {},
   "outputs": [
    {
     "data": {
      "image/png": "[encoded data removed]",
      "text/plain": [
       "<Figure size 432x288 with 1 Axes>"
      ]
     },
     "metadata": {
      "needs_background": "light"
     },
     "output_type": "display_data"
    }
   ],
   "source": [
    "plt.plot(Yt)\n",
    "plt.plot(y_pred)\n",
    "plt.show()"
   ]
  },
  {
   "cell_type": "code",
   "execution_count": 16,
   "metadata": {},
   "outputs": [],
   "source": [
    "# np.arange(1000,1257).shape\n",
    "# y_pred.shape"
   ]
  },
  {
   "cell_type": "code",
   "execution_count": null,
   "metadata": {},
   "outputs": [],
   "source": []
  },
  {
   "cell_type": "code",
   "execution_count": 17,
   "metadata": {},
   "outputs": [],
   "source": [
    "# modelcheckpoint = ModelCheckpoint(\"best_model.h5\",save_best_only=True)\n",
    "# earlystop = EarlyStopping(patience=5 , monitor='val_loss',restore_best_weights=True)\n",
    "\n",
    "# hist = model.fit(X_train, y_train, epochs=100, batch_size=32, callbacks=[modelcheckpoint,earlystop], shuffle=True, validation_split=0.2)"
   ]
  },
  {
   "cell_type": "code",
   "execution_count": null,
   "metadata": {},
   "outputs": [],
   "source": []
  },
  {
   "cell_type": "markdown",
   "metadata": {},
   "source": [
    "## With Test Set"
   ]
  },
  {
   "cell_type": "code",
   "execution_count": null,
   "metadata": {},
   "outputs": [],
   "source": []
  },
  {
   "cell_type": "code",
   "execution_count": 18,
   "metadata": {},
   "outputs": [],
   "source": [
    "X_test = pd.read_csv(\"Test/x_test.csv\").values"
   ]
  },
  {
   "cell_type": "code",
   "execution_count": 19,
   "metadata": {},
   "outputs": [],
   "source": [
    "sc1 = MinMaxScaler(feature_range = (0, 1))"
   ]
  },
  {
   "cell_type": "code",
   "execution_count": 20,
   "metadata": {},
   "outputs": [],
   "source": [
    "X_test = sc1.fit_transform(X_test)"
   ]
  },
  {
   "cell_type": "code",
   "execution_count": 21,
   "metadata": {},
   "outputs": [],
   "source": [
    "X_test = X_test.reshape((X_test.shape[0],X_test.shape[1],1))"
   ]
  },
  {
   "cell_type": "code",
   "execution_count": 22,
   "metadata": {},
   "outputs": [
    {
     "data": {
      "text/plain": [
       "(19, 1, 1)"
      ]
     },
     "execution_count": 22,
     "metadata": {},
     "output_type": "execute_result"
    }
   ],
   "source": [
    "X_test.shape"
   ]
  },
  {
   "cell_type": "code",
   "execution_count": null,
   "metadata": {},
   "outputs": [],
   "source": []
  },
  {
   "cell_type": "code",
   "execution_count": 23,
   "metadata": {},
   "outputs": [],
   "source": [
    "y_pred = regressor.predict(X_test)\n"
   ]
  },
  {
   "cell_type": "code",
   "execution_count": 24,
   "metadata": {},
   "outputs": [],
   "source": [
    "y_pred = sc1.inverse_transform(y_pred)"
   ]
  },
  {
   "cell_type": "code",
   "execution_count": 25,
   "metadata": {},
   "outputs": [],
   "source": [
    "result = pd.DataFrame(y_pred, columns=['High'])"
   ]
  },
  {
   "cell_type": "code",
   "execution_count": 26,
   "metadata": {},
   "outputs": [
    {
     "data": {
      "text/html": [
       "<div>\n",
       "<style scoped>\n",
       "    .dataframe tbody tr th:only-of-type {\n",
       "        vertical-align: middle;\n",
       "    }\n",
       "\n",
       "    .dataframe tbody tr th {\n",
       "        vertical-align: top;\n",
       "    }\n",
       "\n",
       "    .dataframe thead th {\n",
       "        text-align: right;\n",
       "    }\n",
       "</style>\n",
       "<table border=\"1\" class=\"dataframe\">\n",
       "  <thead>\n",
       "    <tr style=\"text-align: right;\">\n",
       "      <th></th>\n",
       "      <th>High</th>\n",
       "    </tr>\n",
       "  </thead>\n",
       "  <tbody>\n",
       "    <tr>\n",
       "      <th>0</th>\n",
       "      <td>791.332397</td>\n",
       "    </tr>\n",
       "    <tr>\n",
       "      <th>1</th>\n",
       "      <td>792.538635</td>\n",
       "    </tr>\n",
       "    <tr>\n",
       "      <th>2</th>\n",
       "      <td>794.924438</td>\n",
       "    </tr>\n",
       "    <tr>\n",
       "      <th>3</th>\n",
       "      <td>807.275513</td>\n",
       "    </tr>\n",
       "    <tr>\n",
       "      <th>4</th>\n",
       "      <td>809.414185</td>\n",
       "    </tr>\n",
       "  </tbody>\n",
       "</table>\n",
       "</div>"
      ],
      "text/plain": [
       "         High\n",
       "0  791.332397\n",
       "1  792.538635\n",
       "2  794.924438\n",
       "3  807.275513\n",
       "4  809.414185"
      ]
     },
     "execution_count": 26,
     "metadata": {},
     "output_type": "execute_result"
    }
   ],
   "source": [
    "result.head()"
   ]
  },
  {
   "cell_type": "code",
   "execution_count": 27,
   "metadata": {},
   "outputs": [],
   "source": [
    "result.to_csv(\"pred_updated.csv\", index=False)"
   ]
  },
  {
   "cell_type": "code",
   "execution_count": null,
   "metadata": {},
   "outputs": [],
   "source": []
  },
  {
   "cell_type": "code",
   "execution_count": null,
   "metadata": {},
   "outputs": [],
   "source": []
  },
  {
   "cell_type": "code",
   "execution_count": null,
   "metadata": {},
   "outputs": [],
   "source": []
  },
  {
   "cell_type": "code",
   "execution_count": null,
   "metadata": {},
   "outputs": [],
   "source": []
  },
  {
   "cell_type": "code",
   "execution_count": null,
   "metadata": {},
   "outputs": [],
   "source": []
  },
  {
   "cell_type": "markdown",
   "metadata": {},
   "source": [
    "# 40 Time Step LSTM"
   ]
  },
  {
   "cell_type": "code",
   "execution_count": null,
   "metadata": {},
   "outputs": [],
   "source": []
  },
  {
   "cell_type": "code",
   "execution_count": 102,
   "metadata": {},
   "outputs": [],
   "source": [
    "new_data = pd.read_csv(\"Train/x_train.csv\")\n",
    "test_data = pd.read_csv(\"Test/x_test.csv\")"
   ]
  },
  {
   "cell_type": "code",
   "execution_count": 103,
   "metadata": {},
   "outputs": [],
   "source": [
    "new_data = pd.concat((new_data,test_data), axis=0)"
   ]
  },
  {
   "cell_type": "code",
   "execution_count": 104,
   "metadata": {},
   "outputs": [
    {
     "data": {
      "text/plain": [
       "(1276, 1)"
      ]
     },
     "execution_count": 104,
     "metadata": {},
     "output_type": "execute_result"
    }
   ],
   "source": [
    "new_data.shape"
   ]
  },
  {
   "cell_type": "code",
   "execution_count": 105,
   "metadata": {},
   "outputs": [],
   "source": [
    "dataset = new_data.values"
   ]
  },
  {
   "cell_type": "code",
   "execution_count": 106,
   "metadata": {},
   "outputs": [
    {
     "data": {
      "text/plain": [
       "(1276, 1)"
      ]
     },
     "execution_count": 106,
     "metadata": {},
     "output_type": "execute_result"
    }
   ],
   "source": [
    "dataset.shape"
   ]
  },
  {
   "cell_type": "code",
   "execution_count": 107,
   "metadata": {},
   "outputs": [],
   "source": [
    "\n",
    "train = dataset[0:1257,:]\n",
    "valid = dataset[1257:,:]"
   ]
  },
  {
   "cell_type": "code",
   "execution_count": 108,
   "metadata": {},
   "outputs": [
    {
     "data": {
      "text/plain": [
       "(19, 1)"
      ]
     },
     "execution_count": 108,
     "metadata": {},
     "output_type": "execute_result"
    }
   ],
   "source": [
    "valid.shape"
   ]
  },
  {
   "cell_type": "code",
   "execution_count": 109,
   "metadata": {},
   "outputs": [],
   "source": [
    "#converting dataset into x_train and y_train\n",
    "scaler = MinMaxScaler(feature_range=(0, 1))\n",
    "scaled_data = scaler.fit_transform(dataset)"
   ]
  },
  {
   "cell_type": "code",
   "execution_count": 110,
   "metadata": {},
   "outputs": [],
   "source": [
    "x_train, y_train = [], []\n",
    "for i in range(40,len(train)):\n",
    "    x_train.append(scaled_data[i-40:i,0])\n",
    "    y_train.append(scaled_data[i,0])\n",
    "x_train, y_train = np.array(x_train), np.array(y_train)"
   ]
  },
  {
   "cell_type": "code",
   "execution_count": 111,
   "metadata": {},
   "outputs": [
    {
     "name": "stdout",
     "output_type": "stream",
     "text": [
      "(1217, 40)\n",
      "(1217,)\n"
     ]
    }
   ],
   "source": [
    "print(x_train.shape)\n",
    "print(y_train.shape)"
   ]
  },
  {
   "cell_type": "code",
   "execution_count": 112,
   "metadata": {},
   "outputs": [
    {
     "name": "stdout",
     "output_type": "stream",
     "text": [
      "(1217, 40, 1)\n"
     ]
    }
   ],
   "source": [
    "x_train = np.reshape(x_train, (x_train.shape[0],x_train.shape[1],1))\n",
    "print(x_train.shape)"
   ]
  },
  {
   "cell_type": "code",
   "execution_count": null,
   "metadata": {},
   "outputs": [],
   "source": []
  },
  {
   "cell_type": "code",
   "execution_count": 113,
   "metadata": {},
   "outputs": [
    {
     "name": "stdout",
     "output_type": "stream",
     "text": [
      "Epoch 1/1\n",
      "1217/1217 [==============================] - 56s 46ms/step - loss: 0.0024\n"
     ]
    },
    {
     "data": {
      "text/plain": [
       "<keras.callbacks.History at 0x1ff67a23a20>"
      ]
     },
     "execution_count": 113,
     "metadata": {},
     "output_type": "execute_result"
    }
   ],
   "source": [
    "# create and fit the LSTM network\n",
    "model = Sequential()\n",
    "model.add(LSTM(units=64, return_sequences=True, input_shape=(x_train.shape[1],1)))\n",
    "model.add(LSTM(units=32))\n",
    "model.add(Dense(1))\n",
    "\n",
    "model.compile(loss='mean_squared_error', optimizer='adam')\n",
    "model.fit(x_train, y_train, epochs=1, batch_size=1, verbose=1)"
   ]
  },
  {
   "cell_type": "code",
   "execution_count": null,
   "metadata": {},
   "outputs": [],
   "source": []
  },
  {
   "cell_type": "code",
   "execution_count": 114,
   "metadata": {},
   "outputs": [
    {
     "data": {
      "text/plain": [
       "(19, 1)"
      ]
     },
     "execution_count": 114,
     "metadata": {},
     "output_type": "execute_result"
    }
   ],
   "source": [
    "valid.shape"
   ]
  },
  {
   "cell_type": "code",
   "execution_count": 115,
   "metadata": {},
   "outputs": [],
   "source": [
    "\n",
    "#predicting 19 values, using past 60 from the train data\n",
    "inputs = new_data[len(new_data) - len(valid) - 40:].values\n",
    "inputs = inputs.reshape(-1,1)\n",
    "inputs  = scaler.transform(inputs)"
   ]
  },
  {
   "cell_type": "code",
   "execution_count": 116,
   "metadata": {},
   "outputs": [
    {
     "data": {
      "text/plain": [
       "(59, 1)"
      ]
     },
     "execution_count": 116,
     "metadata": {},
     "output_type": "execute_result"
    }
   ],
   "source": [
    "inputs.shape"
   ]
  },
  {
   "cell_type": "code",
   "execution_count": null,
   "metadata": {},
   "outputs": [],
   "source": []
  },
  {
   "cell_type": "code",
   "execution_count": 117,
   "metadata": {},
   "outputs": [],
   "source": [
    "X_test = []\n",
    "for i in range(40,inputs.shape[0]):\n",
    "    X_test.append(inputs[i-40:i,0])\n",
    "X_test = np.array(X_test)"
   ]
  },
  {
   "cell_type": "code",
   "execution_count": 118,
   "metadata": {},
   "outputs": [],
   "source": [
    "X_test = np.reshape(X_test, (X_test.shape[0],X_test.shape[1],1))\n",
    "closing_price = model.predict(X_test)\n",
    "closing_price = scaler.inverse_transform(closing_price)"
   ]
  },
  {
   "cell_type": "code",
   "execution_count": 119,
   "metadata": {},
   "outputs": [
    {
     "data": {
      "text/plain": [
       "11.289480562327196"
      ]
     },
     "execution_count": 119,
     "metadata": {},
     "output_type": "execute_result"
    }
   ],
   "source": [
    "rms=np.sqrt(np.mean(np.power((valid-closing_price),2)))\n",
    "rms"
   ]
  },
  {
   "cell_type": "code",
   "execution_count": 136,
   "metadata": {},
   "outputs": [
    {
     "name": "stderr",
     "output_type": "stream",
     "text": [
      "C:\\Users\\Mohit Uniyal\\Anaconda3\\lib\\site-packages\\ipykernel_launcher.py:5: SettingWithCopyWarning: \n",
      "A value is trying to be set on a copy of a slice from a DataFrame.\n",
      "Try using .loc[row_indexer,col_indexer] = value instead\n",
      "\n",
      "See the caveats in the documentation: http://pandas.pydata.org/pandas-docs/stable/indexing.html#indexing-view-versus-copy\n",
      "  \"\"\"\n"
     ]
    },
    {
     "data": {
      "image/png": "[encoded data removed]",
      "text/plain": [
       "<Figure size 1008x576 with 1 Axes>"
      ]
     },
     "metadata": {
      "needs_background": "light"
     },
     "output_type": "display_data"
    }
   ],
   "source": [
    "#for plotting\n",
    "plt.figure(figsize=(14,8))\n",
    "train = new_data[:1257]\n",
    "valid = new_data[1257:]\n",
    "valid['Predictions'] = closing_price\n",
    "plt.plot(train['High'])\n",
    "plt.plot(valid[['High','Predictions']])\n",
    "plt.show()"
   ]
  },
  {
   "cell_type": "code",
   "execution_count": 123,
   "metadata": {},
   "outputs": [
    {
     "data": {
      "text/plain": [
       "(19, 1)"
      ]
     },
     "execution_count": 123,
     "metadata": {},
     "output_type": "execute_result"
    }
   ],
   "source": [
    "closing_price.shape"
   ]
  },
  {
   "cell_type": "code",
   "execution_count": 124,
   "metadata": {},
   "outputs": [],
   "source": [
    "df=pd.DataFrame(closing_price)"
   ]
  },
  {
   "cell_type": "code",
   "execution_count": 125,
   "metadata": {},
   "outputs": [],
   "source": [
    "df.columns= ['High']"
   ]
  },
  {
   "cell_type": "code",
   "execution_count": 126,
   "metadata": {},
   "outputs": [],
   "source": [
    "df.to_csv(\"pred_new_40.csv\", index=False)"
   ]
  }
 ],
 "metadata": {
  "kernelspec": {
   "display_name": "Python 3",
   "language": "python",
   "name": "python3"
  },
  "language_info": {
   "codemirror_mode": {
    "name": "ipython",
    "version": 3
   },
   "file_extension": ".py",
   "mimetype": "text/x-python",
   "name": "python",
   "nbconvert_exporter": "python",
   "pygments_lexer": "ipython3",
   "version": "3.7.3"
  }
 },
 "nbformat": 4,
 "nbformat_minor": 2
}
